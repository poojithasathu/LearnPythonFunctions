{
 "cells": [
  {
   "cell_type": "code",
   "execution_count": 1,
   "id": "1e5597e4",
   "metadata": {},
   "outputs": [],
   "source": [
    "#Import Python Libraries\n",
     "import pandas as pd"
   ]
  },
  {
   "cell_type": "code",
   "execution_count": 2,
   "id": "f2dd222a",
   "metadata": {},
   "outputs": [],
   "source": [
    "#Read csv file\n",
    "df_raw = pd.read_csv('C:/Users/LENOVO/Documents/Data1202/vgsales.csv')\n",
    "#Subset the dataframe using iloc function\n",
    "df_filtered = df_raw.iloc[0:10,0:4]"
   ]
  },
  {
   "cell_type": "code",
   "execution_count": 3,
   "id": "ee9d4d3b",
   "metadata": {},
   "outputs": [
    {
     "data": {
      "text/html": [
       "<div>\n",
       "<style scoped>\n",
       "    .dataframe tbody tr th:only-of-type {\n",
       "        vertical-align: middle;\n",
       "    }\n",
       "\n",
       "    .dataframe tbody tr th {\n",
       "        vertical-align: top;\n",
       "    }\n",
       "\n",
       "    .dataframe thead th {\n",
       "        text-align: right;\n",
       "    }\n",
       "</style>\n",
       "<table border=\"1\" class=\"dataframe\">\n",
       "  <thead>\n",
       "    <tr style=\"text-align: right;\">\n",
       "      <th></th>\n",
       "      <th>Name</th>\n",
       "      <th>Platform</th>\n",
       "      <th>Year_of_Release</th>\n",
       "      <th>Genre</th>\n",
       "    </tr>\n",
       "  </thead>\n",
       "  <tbody>\n",
       "    <tr>\n",
       "      <th>0</th>\n",
       "      <td>Wii Sports</td>\n",
       "      <td>Wii</td>\n",
       "      <td>2006.0</td>\n",
       "      <td>Sports</td>\n",
       "    </tr>\n",
       "    <tr>\n",
       "      <th>1</th>\n",
       "      <td>Super Mario Bros.</td>\n",
       "      <td>NES</td>\n",
       "      <td>1985.0</td>\n",
       "      <td>Platform</td>\n",
       "    </tr>\n",
       "    <tr>\n",
       "      <th>2</th>\n",
       "      <td>Mario Kart Wii</td>\n",
       "      <td>Wii</td>\n",
       "      <td>2008.0</td>\n",
       "      <td>Racing</td>\n",
       "    </tr>\n",
       "    <tr>\n",
       "      <th>3</th>\n",
       "      <td>Wii Sports Resort</td>\n",
       "      <td>Wii</td>\n",
       "      <td>2009.0</td>\n",
       "      <td>Sports</td>\n",
       "    </tr>\n",
       "    <tr>\n",
       "      <th>4</th>\n",
       "      <td>Pokemon Red/Pokemon Blue</td>\n",
       "      <td>GB</td>\n",
       "      <td>1996.0</td>\n",
       "      <td>Role-Playing</td>\n",
       "    </tr>\n",
       "    <tr>\n",
       "      <th>5</th>\n",
       "      <td>Tetris</td>\n",
       "      <td>GB</td>\n",
       "      <td>1989.0</td>\n",
       "      <td>Puzzle</td>\n",
       "    </tr>\n",
       "    <tr>\n",
       "      <th>6</th>\n",
       "      <td>New Super Mario Bros.</td>\n",
       "      <td>DS</td>\n",
       "      <td>2006.0</td>\n",
       "      <td>Platform</td>\n",
       "    </tr>\n",
       "    <tr>\n",
       "      <th>7</th>\n",
       "      <td>Wii Play</td>\n",
       "      <td>Wii</td>\n",
       "      <td>2006.0</td>\n",
       "      <td>Misc</td>\n",
       "    </tr>\n",
       "    <tr>\n",
       "      <th>8</th>\n",
       "      <td>New Super Mario Bros. Wii</td>\n",
       "      <td>Wii</td>\n",
       "      <td>2009.0</td>\n",
       "      <td>Platform</td>\n",
       "    </tr>\n",
       "    <tr>\n",
       "      <th>9</th>\n",
       "      <td>Duck Hunt</td>\n",
       "      <td>NES</td>\n",
       "      <td>1984.0</td>\n",
       "      <td>Shooter</td>\n",
       "    </tr>\n",
       "  </tbody>\n",
       "</table>\n",
       "</div>"
      ],
      "text/plain": [
       "                        Name Platform  Year_of_Release         Genre\n",
       "0                 Wii Sports      Wii           2006.0        Sports\n",
       "1          Super Mario Bros.      NES           1985.0      Platform\n",
       "2             Mario Kart Wii      Wii           2008.0        Racing\n",
       "3          Wii Sports Resort      Wii           2009.0        Sports\n",
       "4   Pokemon Red/Pokemon Blue       GB           1996.0  Role-Playing\n",
       "5                     Tetris       GB           1989.0        Puzzle\n",
       "6      New Super Mario Bros.       DS           2006.0      Platform\n",
       "7                   Wii Play      Wii           2006.0          Misc\n",
       "8  New Super Mario Bros. Wii      Wii           2009.0      Platform\n",
       "9                  Duck Hunt      NES           1984.0       Shooter"
      ]
     },
     "execution_count": 3,
     "metadata": {},
     "output_type": "execute_result"
    }
   ],
   "source": [
    "# To see what the data set looks like, we'll use the head() method.\n",
    "df_filtered.head(12)"
   ]
  },
  {
   "cell_type": "code",
   "execution_count": 5,
   "id": "18ad5ee4",
   "metadata": {},
   "outputs": [],
   "source": [
    "#Create a function to print welcome message for given customer names  \n",
    "def pizza_welcome(customer):\n",
    "    # \"Welcome customers to Pizza shop\"\n",
    "    print('Welcome to Pizza shop '+customer.title())"
   ]
  },
  {
   "cell_type": "code",
   "execution_count": 6,
   "id": "f526fcee",
   "metadata": {},
   "outputs": [
    {
     "name": "stdout",
     "output_type": "stream",
     "text": [
      "Welcome to Pizza shop Eric\n",
      "Welcome to Pizza shop Kevin\n",
      "Welcome to Pizza shop Jacob\n"
     ]
    }
   ],
   "source": [
    "# Call the function using different input\n",
    "pizza_welcome('Eric')\n",
    "pizza_welcome('Kevin')\n",
    "pizza_welcome('Jacob')"
   ]
  },
  {
   "cell_type": "code",
   "execution_count": 7,
   "id": "026ac1dd",
   "metadata": {},
   "outputs": [
    {
     "name": "stdout",
     "output_type": "stream",
     "text": [
      "Your pizza is almost ready Chan\n",
      "Your pizza is almost ready Felix\n",
      "Your pizza is almost ready Jake\n",
      "Your pizza is almost ready Kai\n",
      "Your pizza is almost ready Terry\n",
      "Your pizza is almost ready Jay\n"
     ]
    }
   ],
   "source": [
    "#Function takes a list and uses a loop to print the given message that pizza is ready\n",
    "def waiting(customers):\n",
    "    \"\"\" Sends a message to all waiting customers \"\"\"\n",
    "\n",
    "    for name in customers:\n",
    "        print(\"Your pizza is almost ready\",name.title())\n",
    "\n",
    "customers = ['Chan','Felix','Jake','Kai','Terry','Jay']\n",
    "\n",
    "waiting(customers)"
   ]
  },
  {
   "cell_type": "code",
   "execution_count": 11,
   "id": "81acc933",
   "metadata": {},
   "outputs": [],
   "source": [
    "# Build a function to subset the data using iloc function\n",
    "def subset_data(df_raw, row_select, col_select):\n",
    "  # DOCSTRING\n",
    "  \"\"\"\n",
    "  This function is used to dynamically slice data from \n",
    "  a users dataframe. \n",
    "\n",
    "  row_select: this represents the rows the user wants\n",
    "  col_select: this is the columns\n",
    "  \"\"\"\n",
    "  #Slicing the dataframe using iloc function  \n",
    "  subset = df_raw.iloc[row_select, col_select]\n",
    "  \n",
    "  #return this value\n",
    "  return subset"
   ]
  },
  {
   "cell_type": "code",
   "execution_count": 12,
   "id": "e514fa63",
   "metadata": {},
   "outputs": [
    {
     "name": "stdout",
     "output_type": "stream",
     "text": [
      "Name               Wii Sports\n",
      "Platform                  Wii\n",
      "Year_of_Release        2006.0\n",
      "Genre                  Sports\n",
      "Name: 0, dtype: object\n",
      "Name               Nintendogs\n",
      "Platform                   DS\n",
      "Year_of_Release        2005.0\n",
      "Genre              Simulation\n",
      "Name: 10, dtype: object\n"
     ]
    }
   ],
   "source": [
    "#call the function using different input \n",
    "first_row = subset_data(df_raw, 0, [0,1,2,3])\n",
    "tenth_row = subset_data(df_raw, 10, [0, 1, 2, 3])\n",
    "\n",
    "print(first_row)\n",
    "print(tenth_row)"
   ]
  },
  {
   "cell_type": "code",
   "execution_count": 14,
   "id": "f5d3756a",
   "metadata": {},
   "outputs": [
    {
     "name": "stdout",
     "output_type": "stream",
     "text": [
      "Name               Wii Sports\n",
      "Platform                  Wii\n",
      "Year_of_Release        2006.0\n",
      "Name: 0, dtype: object\n",
      "Name               Super Mario Bros.\n",
      "Platform                         NES\n",
      "Year_of_Release               1985.0\n",
      "Name: 1, dtype: object\n",
      "Name               Mario Kart Wii\n",
      "Platform                      Wii\n",
      "Year_of_Release            2008.0\n",
      "Name: 2, dtype: object\n",
      "Name               Wii Sports Resort\n",
      "Platform                         Wii\n",
      "Year_of_Release               2009.0\n",
      "Name: 3, dtype: object\n",
      "Name               Pokemon Red/Pokemon Blue\n",
      "Platform                                 GB\n",
      "Year_of_Release                      1996.0\n",
      "Name: 4, dtype: object\n",
      "Name               Tetris\n",
      "Platform               GB\n",
      "Year_of_Release    1989.0\n",
      "Name: 5, dtype: object\n",
      "Name               New Super Mario Bros.\n",
      "Platform                              DS\n",
      "Year_of_Release                   2006.0\n",
      "Name: 6, dtype: object\n",
      "Name               Wii Play\n",
      "Platform                Wii\n",
      "Year_of_Release      2006.0\n",
      "Name: 7, dtype: object\n",
      "Name               New Super Mario Bros. Wii\n",
      "Platform                                 Wii\n",
      "Year_of_Release                       2009.0\n",
      "Name: 8, dtype: object\n",
      "Name               Duck Hunt\n",
      "Platform                 NES\n",
      "Year_of_Release       1984.0\n",
      "Name: 9, dtype: object\n",
      "Name               Nintendogs\n",
      "Platform                   DS\n",
      "Year_of_Release        2005.0\n",
      "Name: 10, dtype: object\n",
      "Name               Mario Kart DS\n",
      "Platform                      DS\n",
      "Year_of_Release           2005.0\n",
      "Name: 11, dtype: object\n",
      "Name               Pokemon Gold/Pokemon Silver\n",
      "Platform                                    GB\n",
      "Year_of_Release                         1999.0\n",
      "Name: 12, dtype: object\n",
      "Name               Wii Fit\n",
      "Platform               Wii\n",
      "Year_of_Release     2007.0\n",
      "Name: 13, dtype: object\n",
      "Name               Kinect Adventures!\n",
      "Platform                         X360\n",
      "Year_of_Release                2010.0\n",
      "Name: 14, dtype: object\n",
      "Name               Wii Fit Plus\n",
      "Platform                    Wii\n",
      "Year_of_Release          2009.0\n",
      "Name: 15, dtype: object\n",
      "Name               Grand Theft Auto V\n",
      "Platform                          PS3\n",
      "Year_of_Release                2013.0\n",
      "Name: 16, dtype: object\n",
      "Name               Grand Theft Auto: San Andreas\n",
      "Platform                                     PS2\n",
      "Year_of_Release                           2004.0\n",
      "Name: 17, dtype: object\n",
      "Name               Super Mario World\n",
      "Platform                        SNES\n",
      "Year_of_Release               1990.0\n",
      "Name: 18, dtype: object\n",
      "Name               Brain Age: Train Your Brain in Minutes a Day\n",
      "Platform                                                     DS\n",
      "Year_of_Release                                          2005.0\n",
      "Name: 19, dtype: object\n"
     ]
    }
   ],
   "source": [
    "#Creating a for loop that calls the function \n",
    "first_twenty = df_raw.head(20)\n",
    "\n",
    "for row in range(0, len(first_twenty)):\n",
    "  print(subset_data(first_twenty, row, [0, 1, 2]))"
   ]
  },
  {
   "cell_type": "code",
   "execution_count": null,
   "id": "3e66459d",
   "metadata": {},
   "outputs": [],
   "source": []
  }
 ],
 "metadata": {
  "kernelspec": {
   "display_name": "Python 3 (ipykernel)",
   "language": "python",
   "name": "python3"
  },
  "language_info": {
   "codemirror_mode": {
    "name": "ipython",
    "version": 3
   },
   "file_extension": ".py",
   "mimetype": "text/x-python",
   "name": "python",
   "nbconvert_exporter": "python",
   "pygments_lexer": "ipython3",
   "version": "3.11.4"
  }
 },
 "nbformat": 4,
 "nbformat_minor": 5
}
